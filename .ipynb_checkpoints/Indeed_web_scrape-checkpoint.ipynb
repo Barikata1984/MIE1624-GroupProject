{
 "cells": [
  {
   "cell_type": "markdown",
   "metadata": {
    "id": "lg1DiTNpmAfQ"
   },
   "source": [
    "- The notebook is part of a project to re-design a course curriculum for MIE 1624: Introduction to Data Science and Analytics. This is done by performing a web scraping exercise to extract relevant skills required for data analyst, data scientist, data manager, data engineer, etc. from well-known job posting sites, such as Indeed, glassdoor, linkedin, upwork, etc. Additional data will also be obtained from Kaggle datasets and other online platforms such as CognitiveClas.ai, Coursera, EdX, DataCamp, etc.\n",
    "- This notebook will extract the skills for data related jobs from Indeed sites, focusing on North America countries: US and Canada.\n",
    "- The scraping is conducted using \"requests\", \"BeautifulSoup\", and if needded, \"Selenium\" libraries in Python, then \"pandas\" library will be used to assemble data into dataframe for further pre-processing and cleaning steps. Note that BeautifulSoup is:\n",
    "  * a Python-based parsing library that allows you to extract data from web pages\n",
    "  * It structures an HTML or XML web page. BS is made up of different parsing tools such as html.parser, lxml, and HTML5lib\n",
    "  * user-friendly\n",
    "  \n",
    "- Selenium is used when target websites has a lot of Javascript elements in its code. Selenium is an API that allow you to control a headless browser through a series of programs. When using Selenium, you can also perform other actions such as mouse clicks and filling forms. \n",
    "- A URL for data scientist job search in Toronto from Indeed site looks like: \"https://ca.indeed.com/jobs?q=data%20scientist&l=Toronto%2C%20ON\", where:\n",
    "\n",
    "\n",
    "    * \"q=\" begins the string for the “what” field on the page, separating search terms with “+” (i.e. searching for “data+scientist” jobs)\n",
    "    * “&l=” begins the string for city of interest, separating search terms with “+” if city is more than one word (i.e. “New+York”\n",
    "    * Each page of the job results have 15 job posts.\n",
    "\n"
   ]
  },
  {
   "cell_type": "markdown",
   "metadata": {
    "id": "MBnwJglUpqaa"
   },
   "source": [
    "- Resources used to construct this notebook:\n",
    "*   Web Scraping Job Postings from Indeed: https://medium.com/@msalmon00/web-scraping-job-postings-from-indeed-96bd588dcb4b\n",
    "*   How to scrape job posts from Indeed with Python: https://www.youtube.com/watch?v=eN_3d4JrL_w\n",
    "* https://towardsdatascience.com/in-10-minutes-web-scraping-with-beautiful-soup-and-selenium-for-data-professionals-8de169d36319\n",
    "* https://www.youtube.com/watch?v=QiD1lbM-utk\n",
    "\n"
   ]
  },
  {
   "cell_type": "markdown",
   "metadata": {
    "id": "2tU66ep8uNzN"
   },
   "source": [
    "# Canada"
   ]
  },
  {
   "cell_type": "markdown",
   "metadata": {
    "id": "INtefNivuPp4"
   },
   "source": [
    "4 queries were made into ca.Indeed.com to obtain job postings for Data Analyst, Data Engineer, Data Scientist, and Machine Learning. Due to large quantities of job postings, a limit of 70 pages were extracted (equaling around 1000 job posts) for each role. \n",
    "\n",
    "Job title index was also assigned to each job posting during the web scrape. For example, while scraping for Data Analyst roles, an index number of 1 was assigned to each posting. This will help for analysis. "
   ]
  },
  {
   "cell_type": "code",
   "execution_count": 3,
   "metadata": {
    "colab": {
     "base_uri": "https://localhost:8080/"
    },
    "id": "58EmKLlbvuB6",
    "outputId": "96dd7efa-daad-4b43-a1ce-96a70e1b674a"
   },
   "outputs": [
    {
     "name": "stdout",
     "output_type": "stream",
     "text": [
      "Requirement already satisfied: beautifulsoup4 in c:\\users\\adam\\anaconda3\\lib\\site-packages (4.9.3)\n",
      "Requirement already satisfied: soupsieve>1.2 in c:\\users\\adam\\anaconda3\\lib\\site-packages (from beautifulsoup4) (2.2.1)\n"
     ]
    },
    {
     "name": "stderr",
     "output_type": "stream",
     "text": [
      "WARNING: You are using pip version 21.2.4; however, version 21.3.1 is available.\n",
      "You should consider upgrading via the 'C:\\Users\\Adam\\anaconda3\\python.exe -m pip install --upgrade pip' command.\n"
     ]
    }
   ],
   "source": [
    "!pip install beautifulsoup4"
   ]
  },
  {
   "cell_type": "code",
   "execution_count": 4,
   "metadata": {
    "colab": {
     "base_uri": "https://localhost:8080/",
     "height": 815
    },
    "id": "4FA-fUtbv_2V",
    "outputId": "154a35b9-5aa6-4d12-e015-00cbce312f9e"
   },
   "outputs": [
    {
     "name": "stdout",
     "output_type": "stream",
     "text": [
      "Requirement already satisfied: Selenium in c:\\users\\adam\\anaconda3\\lib\\site-packages (4.0.0)\n",
      "Requirement already satisfied: trio-websocket~=0.9 in c:\\users\\adam\\anaconda3\\lib\\site-packages (from Selenium) (0.9.2)\n",
      "Requirement already satisfied: urllib3[secure]~=1.26 in c:\\users\\adam\\anaconda3\\lib\\site-packages (from Selenium) (1.26.4)\n",
      "Requirement already satisfied: trio~=0.17 in c:\\users\\adam\\anaconda3\\lib\\site-packages (from Selenium) (0.19.0)\n",
      "Requirement already satisfied: sortedcontainers in c:\\users\\adam\\anaconda3\\lib\\site-packages (from trio~=0.17->Selenium) (2.3.0)\n",
      "Requirement already satisfied: cffi>=1.14 in c:\\users\\adam\\anaconda3\\lib\\site-packages (from trio~=0.17->Selenium) (1.14.5)\n",
      "Requirement already satisfied: async-generator>=1.9 in c:\\users\\adam\\anaconda3\\lib\\site-packages (from trio~=0.17->Selenium) (1.10)\n",
      "Requirement already satisfied: sniffio in c:\\users\\adam\\anaconda3\\lib\\site-packages (from trio~=0.17->Selenium) (1.2.0)\n",
      "Requirement already satisfied: attrs>=19.2.0 in c:\\users\\adam\\anaconda3\\lib\\site-packages (from trio~=0.17->Selenium) (20.3.0)\n",
      "Requirement already satisfied: idna in c:\\users\\adam\\anaconda3\\lib\\site-packages (from trio~=0.17->Selenium) (2.10)\n",
      "Requirement already satisfied: outcome in c:\\users\\adam\\anaconda3\\lib\\site-packages (from trio~=0.17->Selenium) (1.1.0)\n",
      "Requirement already satisfied: pycparser in c:\\users\\adam\\anaconda3\\lib\\site-packages (from cffi>=1.14->trio~=0.17->Selenium) (2.20)\n",
      "Requirement already satisfied: wsproto>=0.14 in c:\\users\\adam\\anaconda3\\lib\\site-packages (from trio-websocket~=0.9->Selenium) (1.0.0)\n",
      "Requirement already satisfied: cryptography>=1.3.4 in c:\\users\\adam\\anaconda3\\lib\\site-packages (from urllib3[secure]~=1.26->Selenium) (3.4.7)\n",
      "Requirement already satisfied: pyOpenSSL>=0.14 in c:\\users\\adam\\anaconda3\\lib\\site-packages (from urllib3[secure]~=1.26->Selenium) (20.0.1)\n",
      "Requirement already satisfied: certifi in c:\\users\\adam\\anaconda3\\lib\\site-packages (from urllib3[secure]~=1.26->Selenium) (2020.12.5)\n",
      "Requirement already satisfied: six>=1.5.2 in c:\\users\\adam\\anaconda3\\lib\\site-packages (from pyOpenSSL>=0.14->urllib3[secure]~=1.26->Selenium) (1.15.0)\n",
      "Requirement already satisfied: h11<1,>=0.9.0 in c:\\users\\adam\\anaconda3\\lib\\site-packages (from wsproto>=0.14->trio-websocket~=0.9->Selenium) (0.12.0)\n"
     ]
    },
    {
     "name": "stderr",
     "output_type": "stream",
     "text": [
      "WARNING: You are using pip version 21.2.4; however, version 21.3.1 is available.\n",
      "You should consider upgrading via the 'C:\\Users\\Adam\\anaconda3\\python.exe -m pip install --upgrade pip' command.\n"
     ]
    }
   ],
   "source": [
    "!pip install Selenium"
   ]
  },
  {
   "cell_type": "code",
   "execution_count": 5,
   "metadata": {
    "id": "w1H5oOCNl5LQ"
   },
   "outputs": [],
   "source": [
    "# BeautifulSoup\n",
    "import requests  #to send the get requests to servers to get the raw html\n",
    "from bs4 import BeautifulSoup # to parse the html and extract data from Indeed\n",
    "\n",
    "# for Selenium\n",
    "import selenium\n",
    "from selenium import webdriver\n",
    "from selenium.webdriver.support.ui import WebDriverWait\n",
    "\n",
    "import urllib # use urlencode function from urllin to create full url\n",
    "import pandas as pd\n",
    "\n",
    "import csv #to export data\n",
    "from datetime import datetime #to get current date\n",
    "\n"
   ]
  },
  {
   "cell_type": "markdown",
   "metadata": {
    "id": "IhOwNZ5s2QtD"
   },
   "source": [
    "## Functions for ca.Indeed.com"
   ]
  },
  {
   "cell_type": "code",
   "execution_count": 6,
   "metadata": {},
   "outputs": [
    {
     "name": "stderr",
     "output_type": "stream",
     "text": [
      "<ipython-input-6-af057f13875a>:1: DeprecationWarning: executable_path has been deprecated, please pass in a Service object\n",
      "  driver = webdriver.Chrome(\"./chromedriver\")\n"
     ]
    }
   ],
   "source": [
    "driver = webdriver.Chrome(\"./chromedriver\")"
   ]
  },
  {
   "cell_type": "code",
   "execution_count": 41,
   "metadata": {
    "id": "GY7JbTZnbxyu"
   },
   "outputs": [],
   "source": [
    "def find_jobs_from(job_title, location, filename=\"results.xls\"):    \n",
    "    \"\"\"\n",
    "    This function extracts all the desired characteristics of all new job postings\n",
    "    of the title and location specified and returns them in single file.\n",
    "    The arguments it takes are:\n",
    "        - Job_title\n",
    "        - Location\n",
    "        - Filename: to specify the filename and format of the output.\n",
    "            Default is .xls file called 'results.xls'\n",
    "    \"\"\"\n",
    "    \n",
    "    job_soup = load_indeed_jobs_div(job_title, location)\n",
    "    jobs_list, num_listings = extract_job_information_indeed(job_soup)\n",
    "      \n",
    "    save_jobs_to_excel(jobs_list, filename)\n",
    " \n",
    "    print('{} new job postings retrieved from {}. Stored in {}.'.format(num_listings, filename))\n",
    "    "
   ]
  },
  {
   "cell_type": "code",
   "execution_count": null,
   "metadata": {},
   "outputs": [],
   "source": []
  },
  {
   "cell_type": "code",
   "execution_count": 42,
   "metadata": {
    "id": "QGun-N4Sbxtq"
   },
   "outputs": [],
   "source": [
    "## ================== FUNCTIONS FOR CA.INDEED.COM =================== ##\n",
    "\n",
    "# This function takes job title a user is searching for, and the specified location (City, province, or remote) and return an object that contains all job cards\n",
    "def load_indeed_jobs_div(job_title, location):\n",
    "    getVars = {'q' : job_title, 'l' : location, 'fromage' : 'last', 'sort' : 'date'}    #get the latest job posting by sorting and get last\n",
    "    url = ('https://ca.indeed.com/jobs?' + urllib.parse.urlencode(getVars))\n",
    "    \n",
    "    # print(url)\n",
    "\n",
    "    page = requests.get(url)   #send request to browser and get response\n",
    "    \n",
    "    soup = BeautifulSoup(page.text, 'lxml')\n",
    "    # soup = BeautifulSoup(page.content, \"html.parser\")    #parse content using either html.parser or lxml\n",
    "    \n",
    "    # job_soup = soup.find(id=\"resultsCol\")   #this id returns the entire column of job cards\n",
    "    job_soup = soup.find(\"div\",id=\"mosaic-provider-jobcards\")\n",
    "    return job_soup\n",
    "\n"
   ]
  },
  {
   "cell_type": "code",
   "execution_count": 43,
   "metadata": {
    "colab": {
     "base_uri": "https://localhost:8080/"
    },
    "id": "u2Ul2B13OJIa",
    "outputId": "26dba7c7-9910-4866-9f61-da9f993ffd18"
   },
   "outputs": [
    {
     "data": {
      "text/plain": [
       "<a class=\"tapItem fs-unmask result job_506e546718dd26ca resultWithShelf sponTapItem desktop\" data-hide-spinner=\"true\" data-hiring-event=\"false\" data-jk=\"506e546718dd26ca\" data-mobtk=\"1fiun2plgpi2o801\" href=\"/rc/clk?jk=506e546718dd26ca&amp;fccid=d5a5824be27ba831&amp;vjs=3\" id=\"job_506e546718dd26ca\" rel=\"nofollow\" target=\"_blank\"><div class=\"slider_container\"><div class=\"slider_list\"><div class=\"slider_item\"><div class=\"job_seen_beacon\"><table cellpadding=\"0\" cellspacing=\"0\" class=\"jobCard_mainContent\" role=\"presentation\"><tbody><tr><td class=\"resultContent\"><div class=\"heading4 color-text-primary singleLineTitle tapItem-gutter\"><h2 class=\"jobTitle jobTitle-color-purple jobTitle-newJob\"><div class=\"new topLeft holisticNewBlue desktop\"><span class=\"label\">new</span></div><span title=\"Senior Data Scientist (Remote, Canada)\">Senior Data Scientist (Remote, Canada)</span></h2></div><div class=\"heading6 company_location tapItem-gutter\"><pre><span class=\"companyName\"><a class=\"turnstileLink companyOverviewLink\" data-tn-element=\"companyName\" href=\"/cmp/Shopify\" rel=\"noopener\" target=\"_blank\">Shopify</a></span><span class=\"ratingsDisplay withRatingLink\"><a class=\"ratingLink\" data-tn-variant=\"cmplinktst2\" href=\"/cmp/Shopify/reviews\" rel=\"noopener\" target=\"_blank\" title=\"Shopify reviews\"><span aria-label=\"3.9 of stars rating\" class=\"ratingNumber\" role=\"img\"><span aria-hidden=\"true\">3.9</span><svg aria-hidden=\"true\" class=\"starIcon\" fill=\"none\" height=\"12\" role=\"presentation\" viewbox=\"0 0 16 16\" width=\"12\" xmlns=\"http://www.w3.org/2000/svg\"><path d=\"M8 12.8709L12.4542 15.5593C12.7807 15.7563 13.1835 15.4636 13.0968 15.0922L11.9148 10.0254L15.8505 6.61581C16.1388 6.36608 15.9847 5.89257 15.6047 5.86033L10.423 5.42072L8.39696 0.640342C8.24839 0.289808 7.7516 0.289808 7.60303 0.640341L5.57696 5.42072L0.395297 5.86033C0.015274 5.89257 -0.13882 6.36608 0.149443 6.61581L4.0852 10.0254L2.90318 15.0922C2.81653 15.4636 3.21932 15.7563 3.54584 15.5593L8 12.8709Z\" fill=\"#767676\"></path></svg></span></a></span><div class=\"companyLocation\">Toronto, ON<span class=\"remote-bullet\">•</span><span>Remote</span></div></pre></div><div class=\"heading6 error-text tapItem-gutter\"></div></td></tr></tbody></table><table class=\"jobCardShelfContainer\" role=\"presentation\"><tbody><tr class=\"jobCardShelf\"></tr><tr class=\"underShelfFooter\"><td><div class=\"heading6 tapItem-gutter result-footer\"><div class=\"job-snippet\"><ul style=\"list-style-type:circle;margin-top: 0px;margin-bottom: 0px;padding-left:20px;\">\n",
       "<li style=\"margin-bottom:0px;\">Masterful <b>data</b> storytelling and strategic thinking.</li>\n",
       "<li style=\"margin-bottom:0px;\">Influence leadership to drive more data-informed decisions.</li>\n",
       "<li>Deep understanding of advanced SQL techniques.</li>\n",
       "</ul></div><span class=\"date\">Today</span><span class=\"result-link-bar-separator\">·</span><button aria-expanded=\"false\" class=\"sl resultLink more_links_button\" type=\"button\">More...</button></div><div class=\"tab-container\"><div class=\"more-links-container result-tab\" role=\"presentation\"><div class=\"more_links\"><button aria-label=\"Close\" class=\"close-button\" title=\"Close\" type=\"button\"></button><ul><li><span class=\"mat\">View all <a href=\"/Shopify-jobs\">Shopify jobs</a> - <a href=\"/jobs-in-Toronto,-ON\">Toronto jobs</a></span></li><li><span class=\"mat\">Salary Search: <a href=\"/career/senior-data-scientist/salaries/Toronto--ON?campaignid=serp-more&amp;fromjk=506e546718dd26ca&amp;from=serp-more\">Senior Data Scientist (Remote, Canada) salaries in Toronto, ON</a></span></li><li><span class=\"mat\">See popular <a href=\"/cmp/Shopify/faq\">questions &amp; answers about Shopify</a></span></li></ul></div></div></div></td></tr></tbody></table><div aria-live=\"polite\"></div></div></div><div class=\"slider_sub_item\"></div></div></div><div class=\"kebabMenu\"><button aria-expanded=\"false\" aria-haspopup=\"true\" aria-label=\"Job actions\" class=\"kebabMenu-button\"><svg aria-hidden=\"true\" fill=\"none\" height=\"24\" role=\"presentation\" viewbox=\"0 0 24 24\" width=\"24\" xmlns=\"http://www.w3.org/2000/svg\"><path d=\"M12 7C13.1 7 14 6.1 14 5C14 3.9 13.1 3 12 3C10.9 3 10 3.9 10 5C10 6.1 10.9 7 12 7ZM12 10C10.9 10 10 10.9 10 12C10 13.1 10.9 14 12 14C13.1 14 14 13.1 14 12C14 10.9 13.1 10 12 10ZM12 17C10.9 17 10 17.9 10 19C10 20.1 10.9 21 12 21C13.1 21 14 20.1 14 19C14 17.9 13.1 17 12 17Z\" fill=\"#2d2d2d\"></path></svg></button></div></a>"
      ]
     },
     "execution_count": 43,
     "metadata": {},
     "output_type": "execute_result"
    }
   ],
   "source": [
    "# test\n",
    "job_soup = load_indeed_jobs_div('data scientist', 'toronto, on')\n",
    "job_elems = job_soup.find_all('a', class_='tapItem')\n",
    "job_elems[0]"
   ]
  },
  {
   "cell_type": "code",
   "execution_count": 64,
   "metadata": {
    "id": "YUs4EPUa2DOf"
   },
   "outputs": [],
   "source": [
    "# This function takes the result from the above function and return a job lists and number of listings\n",
    "def extract_job_information_indeed(job_soup):\n",
    "    job_elems = job_soup.find_all('a', class_='tapItem')\n",
    "    \n",
    "    cols = []\n",
    "    extracted_info = []\n",
    "    \n",
    "    # Extract titles  \n",
    "    titles = []\n",
    "    cols.append('titles')\n",
    "    for job_elem in job_elems:\n",
    "        titles.append(extract_job_title_indeed(job_elem))   #call the extract_job_title_indeed below\n",
    "    extracted_info.append(titles)                    \n",
    "    \n",
    "    links = []\n",
    "    cols.append('links')\n",
    "    for job_elem in job_elems:\n",
    "        links.append(extract_link_indeed(job_elem))\n",
    "    extracted_info.append(links)\n",
    "    \n",
    "    snippets=[]\n",
    "    cols.append('snippets')\n",
    "    for job_elem in job_elems:\n",
    "      snippets.append(extract_jobsnippet(job_elem))\n",
    "    extracted_info.append(snippets)\n",
    "    \n",
    "    jobs_list = {}\n",
    "    \n",
    "    for j in range(len(cols)):\n",
    "        jobs_list[cols[j]] = extracted_info[j]\n",
    "    \n",
    "    num_listings = len(extracted_info[0])\n",
    "    \n",
    "    return jobs_list, num_listings"
   ]
  },
  {
   "cell_type": "code",
   "execution_count": 45,
   "metadata": {
    "colab": {
     "base_uri": "https://localhost:8080/"
    },
    "id": "R2bHU95fOwMd",
    "outputId": "ce928622-55f5-4fd4-d307-00d1badd3cd9"
   },
   "outputs": [
    {
     "data": {
      "text/plain": [
       "<a class=\"tapItem fs-unmask result job_506e546718dd26ca resultWithShelf sponTapItem desktop\" data-hide-spinner=\"true\" data-hiring-event=\"false\" data-jk=\"506e546718dd26ca\" data-mobtk=\"1fiun2plgpi2o801\" href=\"/rc/clk?jk=506e546718dd26ca&amp;fccid=d5a5824be27ba831&amp;vjs=3\" id=\"job_506e546718dd26ca\" rel=\"nofollow\" target=\"_blank\"><div class=\"slider_container\"><div class=\"slider_list\"><div class=\"slider_item\"><div class=\"job_seen_beacon\"><table cellpadding=\"0\" cellspacing=\"0\" class=\"jobCard_mainContent\" role=\"presentation\"><tbody><tr><td class=\"resultContent\"><div class=\"heading4 color-text-primary singleLineTitle tapItem-gutter\"><h2 class=\"jobTitle jobTitle-color-purple jobTitle-newJob\"><div class=\"new topLeft holisticNewBlue desktop\"><span class=\"label\">new</span></div><span title=\"Senior Data Scientist (Remote, Canada)\">Senior Data Scientist (Remote, Canada)</span></h2></div><div class=\"heading6 company_location tapItem-gutter\"><pre><span class=\"companyName\"><a class=\"turnstileLink companyOverviewLink\" data-tn-element=\"companyName\" href=\"/cmp/Shopify\" rel=\"noopener\" target=\"_blank\">Shopify</a></span><span class=\"ratingsDisplay withRatingLink\"><a class=\"ratingLink\" data-tn-variant=\"cmplinktst2\" href=\"/cmp/Shopify/reviews\" rel=\"noopener\" target=\"_blank\" title=\"Shopify reviews\"><span aria-label=\"3.9 of stars rating\" class=\"ratingNumber\" role=\"img\"><span aria-hidden=\"true\">3.9</span><svg aria-hidden=\"true\" class=\"starIcon\" fill=\"none\" height=\"12\" role=\"presentation\" viewbox=\"0 0 16 16\" width=\"12\" xmlns=\"http://www.w3.org/2000/svg\"><path d=\"M8 12.8709L12.4542 15.5593C12.7807 15.7563 13.1835 15.4636 13.0968 15.0922L11.9148 10.0254L15.8505 6.61581C16.1388 6.36608 15.9847 5.89257 15.6047 5.86033L10.423 5.42072L8.39696 0.640342C8.24839 0.289808 7.7516 0.289808 7.60303 0.640341L5.57696 5.42072L0.395297 5.86033C0.015274 5.89257 -0.13882 6.36608 0.149443 6.61581L4.0852 10.0254L2.90318 15.0922C2.81653 15.4636 3.21932 15.7563 3.54584 15.5593L8 12.8709Z\" fill=\"#767676\"></path></svg></span></a></span><div class=\"companyLocation\">Toronto, ON<span class=\"remote-bullet\">•</span><span>Remote</span></div></pre></div><div class=\"heading6 error-text tapItem-gutter\"></div></td></tr></tbody></table><table class=\"jobCardShelfContainer\" role=\"presentation\"><tbody><tr class=\"jobCardShelf\"></tr><tr class=\"underShelfFooter\"><td><div class=\"heading6 tapItem-gutter result-footer\"><div class=\"job-snippet\"><ul style=\"list-style-type:circle;margin-top: 0px;margin-bottom: 0px;padding-left:20px;\">\n",
       "<li style=\"margin-bottom:0px;\">Masterful <b>data</b> storytelling and strategic thinking.</li>\n",
       "<li style=\"margin-bottom:0px;\">Influence leadership to drive more data-informed decisions.</li>\n",
       "<li>Deep understanding of advanced SQL techniques.</li>\n",
       "</ul></div><span class=\"date\">Today</span><span class=\"result-link-bar-separator\">·</span><button aria-expanded=\"false\" class=\"sl resultLink more_links_button\" type=\"button\">More...</button></div><div class=\"tab-container\"><div class=\"more-links-container result-tab\" role=\"presentation\"><div class=\"more_links\"><button aria-label=\"Close\" class=\"close-button\" title=\"Close\" type=\"button\"></button><ul><li><span class=\"mat\">View all <a href=\"/Shopify-jobs\">Shopify jobs</a> - <a href=\"/jobs-in-Toronto,-ON\">Toronto jobs</a></span></li><li><span class=\"mat\">Salary Search: <a href=\"/career/senior-data-scientist/salaries/Toronto--ON?campaignid=serp-more&amp;fromjk=506e546718dd26ca&amp;from=serp-more\">Senior Data Scientist (Remote, Canada) salaries in Toronto, ON</a></span></li><li><span class=\"mat\">See popular <a href=\"/cmp/Shopify/faq\">questions &amp; answers about Shopify</a></span></li></ul></div></div></div></td></tr></tbody></table><div aria-live=\"polite\"></div></div></div><div class=\"slider_sub_item\"></div></div></div><div class=\"kebabMenu\"><button aria-expanded=\"false\" aria-haspopup=\"true\" aria-label=\"Job actions\" class=\"kebabMenu-button\"><svg aria-hidden=\"true\" fill=\"none\" height=\"24\" role=\"presentation\" viewbox=\"0 0 24 24\" width=\"24\" xmlns=\"http://www.w3.org/2000/svg\"><path d=\"M12 7C13.1 7 14 6.1 14 5C14 3.9 13.1 3 12 3C10.9 3 10 3.9 10 5C10 6.1 10.9 7 12 7ZM12 10C10.9 10 10 10.9 10 12C10 13.1 10.9 14 12 14C13.1 14 14 13.1 14 12C14 10.9 13.1 10 12 10ZM12 17C10.9 17 10 17.9 10 19C10 20.1 10.9 21 12 21C13.1 21 14 20.1 14 19C14 17.9 13.1 17 12 17Z\" fill=\"#2d2d2d\"></path></svg></button></div></a>"
      ]
     },
     "execution_count": 45,
     "metadata": {},
     "output_type": "execute_result"
    }
   ],
   "source": [
    "job_elems[0]"
   ]
  },
  {
   "cell_type": "code",
   "execution_count": 46,
   "metadata": {
    "id": "TaN-h_c99YUe"
   },
   "outputs": [],
   "source": [
    "def extract_job_title_indeed(job_elem):\n",
    "    title_elem = job_elem.find('h2', class_='jobTitle')\n",
    "    \n",
    "    spans = title_elem.find_all('span')\n",
    "\n",
    "    title = spans[1].text.strip()\n",
    "\n",
    "    return title\n"
   ]
  },
  {
   "cell_type": "code",
   "execution_count": 47,
   "metadata": {
    "colab": {
     "base_uri": "https://localhost:8080/",
     "height": 35
    },
    "id": "5ABOFwYcPGfd",
    "outputId": "1d7e47a6-5705-46e5-d3b7-0025e2074ee5"
   },
   "outputs": [
    {
     "data": {
      "application/vnd.google.colaboratory.intrinsic+json": {
       "type": "string"
      },
      "text/plain": [
       "'Senior Data Scientist (Remote, Canada)'"
      ]
     },
     "execution_count": 47,
     "metadata": {},
     "output_type": "execute_result"
    }
   ],
   "source": [
    "# test\n",
    "extract_job_title_indeed(job_elems[0])"
   ]
  },
  {
   "cell_type": "code",
   "execution_count": 54,
   "metadata": {
    "id": "3puaOWqz9bUo"
   },
   "outputs": [],
   "source": [
    "def extract_link_indeed(job_elem):\n",
    "    href = job_elem.get('href')\n",
    "    link = f\"https://ca.indeed.com{href}\"\n",
    "\n",
    "    \n",
    "    # driver = webdriver.Chrome(\"./chromedriver\")\n",
    "    # link.click()\n",
    "    return link\n",
    "\n"
   ]
  },
  {
   "cell_type": "code",
   "execution_count": 49,
   "metadata": {
    "colab": {
     "base_uri": "https://localhost:8080/",
     "height": 35
    },
    "id": "xcCJJHtZR4uT",
    "outputId": "24b0f9fa-8846-423c-ad82-08d1b596fea0"
   },
   "outputs": [
    {
     "data": {
      "application/vnd.google.colaboratory.intrinsic+json": {
       "type": "string"
      },
      "text/plain": [
       "'https://ca.indeed.com/rc/clk?jk=506e546718dd26ca&fccid=d5a5824be27ba831&vjs=3'"
      ]
     },
     "execution_count": 49,
     "metadata": {},
     "output_type": "execute_result"
    }
   ],
   "source": [
    "# test\n",
    "extract_link_indeed(job_elems[0])"
   ]
  },
  {
   "cell_type": "code",
   "execution_count": 61,
   "metadata": {
    "id": "Zs6YVnlngApf"
   },
   "outputs": [],
   "source": [
    "def extract_jobsnippet(job_elem):\n",
    "  job_summary = job_elem.find('div', 'job-snippet').text.replace('\\n', '')\n",
    "  return job_summary"
   ]
  },
  {
   "cell_type": "code",
   "execution_count": 62,
   "metadata": {
    "colab": {
     "base_uri": "https://localhost:8080/",
     "height": 35
    },
    "id": "9dmURVhtgm1t",
    "outputId": "a178b989-dfe6-49d0-9fe7-734e9539f65c"
   },
   "outputs": [
    {
     "data": {
      "application/vnd.google.colaboratory.intrinsic+json": {
       "type": "string"
      },
      "text/plain": [
       "'Masterful data storytelling and strategic thinking.Influence leadership to drive more data-informed decisions.Deep understanding of advanced SQL techniques.'"
      ]
     },
     "execution_count": 62,
     "metadata": {},
     "output_type": "execute_result"
    }
   ],
   "source": [
    "extract_jobsnippet(job_elems[0])"
   ]
  },
  {
   "cell_type": "code",
   "execution_count": 50,
   "metadata": {
    "id": "IRfmCD2-bxwM"
   },
   "outputs": [],
   "source": [
    "## ======================= GENERIC FUNCTIONS ======================= ##\n",
    "\n",
    "def save_jobs_to_excel(jobs_list, filename):\n",
    "    jobs = pd.DataFrame(jobs_list)\n",
    "    jobs.to_excel(filename)"
   ]
  },
  {
   "cell_type": "markdown",
   "metadata": {
    "id": "RoKHjozx78HL"
   },
   "source": [
    "## Demo"
   ]
  },
  {
   "cell_type": "code",
   "execution_count": 51,
   "metadata": {
    "colab": {
     "base_uri": "https://localhost:8080/",
     "height": 256
    },
    "id": "v0pqOhGmsx7p",
    "outputId": "8794a8f1-8154-478b-94af-3d6323b222a3"
   },
   "outputs": [
    {
     "ename": "IndexError",
     "evalue": "ignored",
     "output_type": "error",
     "traceback": [
      "\u001b[0;31m---------------------------------------------------------------------------\u001b[0m",
      "\u001b[0;31mIndexError\u001b[0m                                Traceback (most recent call last)",
      "\u001b[0;32m<ipython-input-51-b24debf355ae>\u001b[0m in \u001b[0;36m<module>\u001b[0;34m()\u001b[0m\n\u001b[0;32m----> 1\u001b[0;31m \u001b[0mfind_jobs_from\u001b[0m\u001b[0;34m(\u001b[0m\u001b[0;34m'\"data scientist\"'\u001b[0m\u001b[0;34m,\u001b[0m \u001b[0;34m'toronto, on'\u001b[0m\u001b[0;34m)\u001b[0m\u001b[0;34m\u001b[0m\u001b[0;34m\u001b[0m\u001b[0m\n\u001b[0m",
      "\u001b[0;32m<ipython-input-41-07de5b49c9ab>\u001b[0m in \u001b[0;36mfind_jobs_from\u001b[0;34m(job_title, location, filename)\u001b[0m\n\u001b[1;32m     15\u001b[0m     \u001b[0msave_jobs_to_excel\u001b[0m\u001b[0;34m(\u001b[0m\u001b[0mjobs_list\u001b[0m\u001b[0;34m,\u001b[0m \u001b[0mfilename\u001b[0m\u001b[0;34m)\u001b[0m\u001b[0;34m\u001b[0m\u001b[0;34m\u001b[0m\u001b[0m\n\u001b[1;32m     16\u001b[0m \u001b[0;34m\u001b[0m\u001b[0m\n\u001b[0;32m---> 17\u001b[0;31m     \u001b[0mprint\u001b[0m\u001b[0;34m(\u001b[0m\u001b[0;34m'{} new job postings retrieved from {}. Stored in {}.'\u001b[0m\u001b[0;34m.\u001b[0m\u001b[0mformat\u001b[0m\u001b[0;34m(\u001b[0m\u001b[0mnum_listings\u001b[0m\u001b[0;34m,\u001b[0m \u001b[0mfilename\u001b[0m\u001b[0;34m)\u001b[0m\u001b[0;34m)\u001b[0m\u001b[0;34m\u001b[0m\u001b[0;34m\u001b[0m\u001b[0m\n\u001b[0m\u001b[1;32m     18\u001b[0m \u001b[0;34m\u001b[0m\u001b[0m\n",
      "\u001b[0;31mIndexError\u001b[0m: tuple index out of range"
     ]
    }
   ],
   "source": [
    "find_jobs_from('\"data scientist\"', 'toronto, on')"
   ]
  },
  {
   "cell_type": "code",
   "execution_count": null,
   "metadata": {
    "id": "uZFeWviz8FMh"
   },
   "outputs": [],
   "source": []
  }
 ],
 "metadata": {
  "colab": {
   "collapsed_sections": [],
   "name": "Indeed_web_scrape.ipynb",
   "provenance": []
  },
  "kernelspec": {
   "display_name": "Python 3",
   "language": "python",
   "name": "python3"
  },
  "language_info": {
   "codemirror_mode": {
    "name": "ipython",
    "version": 3
   },
   "file_extension": ".py",
   "mimetype": "text/x-python",
   "name": "python",
   "nbconvert_exporter": "python",
   "pygments_lexer": "ipython3",
   "version": "3.8.8"
  }
 },
 "nbformat": 4,
 "nbformat_minor": 1
}
