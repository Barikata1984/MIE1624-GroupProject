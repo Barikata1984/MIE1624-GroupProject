{
  "nbformat": 4,
  "nbformat_minor": 0,
  "metadata": {
    "colab": {
      "name": "MIE1624-RS.ipynb",
      "provenance": [],
      "collapsed_sections": []
    },
    "kernelspec": {
      "name": "python3",
      "display_name": "Python 3"
    },
    "language_info": {
      "name": "python"
    }
  },
  "cells": [
    {
      "cell_type": "markdown",
      "metadata": {
        "id": "eZfQqZORrYFi"
      },
      "source": [
        "# Libraries"
      ]
    },
    {
      "cell_type": "code",
      "metadata": {
        "id": "gPPbCfv65lJs"
      },
      "source": [
        "!pip install surprise"
      ],
      "execution_count": null,
      "outputs": []
    },
    {
      "cell_type": "code",
      "metadata": {
        "id": "Kz7tAQ6KidIV"
      },
      "source": [
        "import pandas as pd \n",
        "import numpy as np\n",
        "from numpy import dot\n",
        "from numpy.linalg import norm \n",
        "import matplotlib.pyplot as plt\n",
        "import seaborn as sns\n",
        "\n",
        "from scipy.sparse import csr_matrix\n",
        "from scipy.sparse.linalg import svds\n",
        "\n",
        "from surprise import Dataset, Reader, accuracy, KNNWithMeans\n",
        "from surprise.model_selection import GridSearchCV, train_test_split\n",
        "\n",
        "import random\n",
        "from random import randint\n",
        "\n",
        "pd.set_option('display.max_rows', 500)\n",
        "pd.set_option('display.max_columns', 500)\n",
        "pd.set_option('display.max_colwidth', 1000)\n",
        "\n",
        "%matplotlib inline"
      ],
      "execution_count": 63,
      "outputs": []
    },
    {
      "cell_type": "markdown",
      "metadata": {
        "id": "FKdczjz9rc6T"
      },
      "source": [
        "# Data Generation"
      ]
    },
    {
      "cell_type": "code",
      "metadata": {
        "id": "k_j8LFNHjHQj",
        "colab": {
          "base_uri": "https://localhost:8080/",
          "height": 519
        },
        "outputId": "f5591acc-4894-4723-beba-19ca61854b52"
      },
      "source": [
        "# Generate data required for the Recommender System\n",
        "def generateData(n_courses=25, n_topics=5, n_professors=20, n_students=5000, size=20000):\n",
        "  '''\n",
        "  This function will generate a dataset with features associated to courses. \n",
        "  The dataset will have the following columns:\n",
        "    - course_id (String): Unique identifier for the course\n",
        "    - course_topic (Integer): An integer value representing the topic for the book, value is between 1 and 5, \n",
        "                              indicating that there are 15 unique topics. Each course can only have 1 topic.\n",
        "    - professor_id (String): Unique identifier for the professor\n",
        "    - student_id (String): Unique identifier for the student\n",
        "    - course_rating (Integer): A value between 0 and 5\n",
        "  \n",
        "  params:\n",
        "    n_courses (Integer): The number of courses in the dataset\n",
        "    n_topics (Integer): The number of course topics to be chosen from\n",
        "    n_professors (Integer): Number of professors to be generated\n",
        "    n_students (Integer): Number of students for the dataset\n",
        "    size (Integer): The number of rows in the dataset\n",
        "  \n",
        "  example:\n",
        "    data = generateData()\n",
        "  '''\n",
        "\n",
        "  d = pd.DataFrame(\n",
        "      {\n",
        "          'course_id': [randint(1, n_courses) for _ in range(size)], \n",
        "          'course_topic': [randint(1, n_topics) for _ in range(size)],\n",
        "          'professor_id': [randint(1, n_professors) for _ in range(size)],\n",
        "          'student_id': [randint(1, n_students) for _ in range(size)],\n",
        "          'course_ratings': [randint(1, 5) for _ in range(size)]\n",
        "      }\n",
        "  ).drop_duplicates()\n",
        "\n",
        "  return d\n",
        "\n",
        "random.seed(123)\n",
        "raw_data = generateData()\n",
        "raw_data.head(15)"
      ],
      "execution_count": 2,
      "outputs": [
        {
          "output_type": "execute_result",
          "data": {
            "text/html": [
              "<div>\n",
              "<style scoped>\n",
              "    .dataframe tbody tr th:only-of-type {\n",
              "        vertical-align: middle;\n",
              "    }\n",
              "\n",
              "    .dataframe tbody tr th {\n",
              "        vertical-align: top;\n",
              "    }\n",
              "\n",
              "    .dataframe thead th {\n",
              "        text-align: right;\n",
              "    }\n",
              "</style>\n",
              "<table border=\"1\" class=\"dataframe\">\n",
              "  <thead>\n",
              "    <tr style=\"text-align: right;\">\n",
              "      <th></th>\n",
              "      <th>course_id</th>\n",
              "      <th>course_topic</th>\n",
              "      <th>professor_id</th>\n",
              "      <th>student_id</th>\n",
              "      <th>course_ratings</th>\n",
              "    </tr>\n",
              "  </thead>\n",
              "  <tbody>\n",
              "    <tr>\n",
              "      <th>0</th>\n",
              "      <td>2</td>\n",
              "      <td>2</td>\n",
              "      <td>8</td>\n",
              "      <td>3397</td>\n",
              "      <td>3</td>\n",
              "    </tr>\n",
              "    <tr>\n",
              "      <th>1</th>\n",
              "      <td>9</td>\n",
              "      <td>3</td>\n",
              "      <td>14</td>\n",
              "      <td>3080</td>\n",
              "      <td>4</td>\n",
              "    </tr>\n",
              "    <tr>\n",
              "      <th>2</th>\n",
              "      <td>3</td>\n",
              "      <td>2</td>\n",
              "      <td>11</td>\n",
              "      <td>4588</td>\n",
              "      <td>2</td>\n",
              "    </tr>\n",
              "    <tr>\n",
              "      <th>3</th>\n",
              "      <td>25</td>\n",
              "      <td>5</td>\n",
              "      <td>3</td>\n",
              "      <td>1336</td>\n",
              "      <td>1</td>\n",
              "    </tr>\n",
              "    <tr>\n",
              "      <th>4</th>\n",
              "      <td>14</td>\n",
              "      <td>3</td>\n",
              "      <td>5</td>\n",
              "      <td>4345</td>\n",
              "      <td>5</td>\n",
              "    </tr>\n",
              "    <tr>\n",
              "      <th>5</th>\n",
              "      <td>9</td>\n",
              "      <td>3</td>\n",
              "      <td>9</td>\n",
              "      <td>4256</td>\n",
              "      <td>4</td>\n",
              "    </tr>\n",
              "    <tr>\n",
              "      <th>6</th>\n",
              "      <td>4</td>\n",
              "      <td>3</td>\n",
              "      <td>1</td>\n",
              "      <td>4660</td>\n",
              "      <td>4</td>\n",
              "    </tr>\n",
              "    <tr>\n",
              "      <th>7</th>\n",
              "      <td>2</td>\n",
              "      <td>5</td>\n",
              "      <td>9</td>\n",
              "      <td>2572</td>\n",
              "      <td>1</td>\n",
              "    </tr>\n",
              "    <tr>\n",
              "      <th>8</th>\n",
              "      <td>13</td>\n",
              "      <td>1</td>\n",
              "      <td>15</td>\n",
              "      <td>619</td>\n",
              "      <td>5</td>\n",
              "    </tr>\n",
              "    <tr>\n",
              "      <th>9</th>\n",
              "      <td>18</td>\n",
              "      <td>4</td>\n",
              "      <td>16</td>\n",
              "      <td>1608</td>\n",
              "      <td>4</td>\n",
              "    </tr>\n",
              "    <tr>\n",
              "      <th>10</th>\n",
              "      <td>18</td>\n",
              "      <td>2</td>\n",
              "      <td>2</td>\n",
              "      <td>329</td>\n",
              "      <td>4</td>\n",
              "    </tr>\n",
              "    <tr>\n",
              "      <th>11</th>\n",
              "      <td>11</td>\n",
              "      <td>2</td>\n",
              "      <td>13</td>\n",
              "      <td>3080</td>\n",
              "      <td>5</td>\n",
              "    </tr>\n",
              "    <tr>\n",
              "      <th>12</th>\n",
              "      <td>11</td>\n",
              "      <td>1</td>\n",
              "      <td>8</td>\n",
              "      <td>2718</td>\n",
              "      <td>3</td>\n",
              "    </tr>\n",
              "    <tr>\n",
              "      <th>13</th>\n",
              "      <td>2</td>\n",
              "      <td>2</td>\n",
              "      <td>17</td>\n",
              "      <td>709</td>\n",
              "      <td>2</td>\n",
              "    </tr>\n",
              "    <tr>\n",
              "      <th>14</th>\n",
              "      <td>6</td>\n",
              "      <td>1</td>\n",
              "      <td>8</td>\n",
              "      <td>3416</td>\n",
              "      <td>2</td>\n",
              "    </tr>\n",
              "  </tbody>\n",
              "</table>\n",
              "</div>"
            ],
            "text/plain": [
              "    course_id  course_topic  professor_id  student_id  course_ratings\n",
              "0           2             2             8        3397               3\n",
              "1           9             3            14        3080               4\n",
              "2           3             2            11        4588               2\n",
              "3          25             5             3        1336               1\n",
              "4          14             3             5        4345               5\n",
              "5           9             3             9        4256               4\n",
              "6           4             3             1        4660               4\n",
              "7           2             5             9        2572               1\n",
              "8          13             1            15         619               5\n",
              "9          18             4            16        1608               4\n",
              "10         18             2             2         329               4\n",
              "11         11             2            13        3080               5\n",
              "12         11             1             8        2718               3\n",
              "13          2             2            17         709               2\n",
              "14          6             1             8        3416               2"
            ]
          },
          "metadata": {},
          "execution_count": 2
        }
      ]
    },
    {
      "cell_type": "markdown",
      "metadata": {
        "id": "3L8-w5UqmUZU"
      },
      "source": [
        "# Manual Implementation\n",
        "## Collaborative Filtering"
      ]
    },
    {
      "cell_type": "code",
      "metadata": {
        "colab": {
          "base_uri": "https://localhost:8080/",
          "height": 237
        },
        "id": "tFmlSey1dMDR",
        "outputId": "d16128a5-ff39-4920-8204-58d51f3ea6dd"
      },
      "source": [
        "# Create the sparse student by course matrix for course ratings\n",
        "df = raw_data.pivot_table(columns='course_id', index='student_id', values='course_ratings').fillna(0)\n",
        "mat = df.values\n",
        "mat = csr_matrix(mat)\n",
        "\n",
        "df.head()"
      ],
      "execution_count": 3,
      "outputs": [
        {
          "output_type": "execute_result",
          "data": {
            "text/html": [
              "<div>\n",
              "<style scoped>\n",
              "    .dataframe tbody tr th:only-of-type {\n",
              "        vertical-align: middle;\n",
              "    }\n",
              "\n",
              "    .dataframe tbody tr th {\n",
              "        vertical-align: top;\n",
              "    }\n",
              "\n",
              "    .dataframe thead th {\n",
              "        text-align: right;\n",
              "    }\n",
              "</style>\n",
              "<table border=\"1\" class=\"dataframe\">\n",
              "  <thead>\n",
              "    <tr style=\"text-align: right;\">\n",
              "      <th>course_id</th>\n",
              "      <th>1</th>\n",
              "      <th>2</th>\n",
              "      <th>3</th>\n",
              "      <th>4</th>\n",
              "      <th>5</th>\n",
              "      <th>6</th>\n",
              "      <th>7</th>\n",
              "      <th>8</th>\n",
              "      <th>9</th>\n",
              "      <th>10</th>\n",
              "      <th>11</th>\n",
              "      <th>12</th>\n",
              "      <th>13</th>\n",
              "      <th>14</th>\n",
              "      <th>15</th>\n",
              "      <th>16</th>\n",
              "      <th>17</th>\n",
              "      <th>18</th>\n",
              "      <th>19</th>\n",
              "      <th>20</th>\n",
              "      <th>21</th>\n",
              "      <th>22</th>\n",
              "      <th>23</th>\n",
              "      <th>24</th>\n",
              "      <th>25</th>\n",
              "    </tr>\n",
              "    <tr>\n",
              "      <th>student_id</th>\n",
              "      <th></th>\n",
              "      <th></th>\n",
              "      <th></th>\n",
              "      <th></th>\n",
              "      <th></th>\n",
              "      <th></th>\n",
              "      <th></th>\n",
              "      <th></th>\n",
              "      <th></th>\n",
              "      <th></th>\n",
              "      <th></th>\n",
              "      <th></th>\n",
              "      <th></th>\n",
              "      <th></th>\n",
              "      <th></th>\n",
              "      <th></th>\n",
              "      <th></th>\n",
              "      <th></th>\n",
              "      <th></th>\n",
              "      <th></th>\n",
              "      <th></th>\n",
              "      <th></th>\n",
              "      <th></th>\n",
              "      <th></th>\n",
              "      <th></th>\n",
              "    </tr>\n",
              "  </thead>\n",
              "  <tbody>\n",
              "    <tr>\n",
              "      <th>1</th>\n",
              "      <td>0.0</td>\n",
              "      <td>4.0</td>\n",
              "      <td>0.0</td>\n",
              "      <td>0.0</td>\n",
              "      <td>0.0</td>\n",
              "      <td>4.0</td>\n",
              "      <td>0.0</td>\n",
              "      <td>0.0</td>\n",
              "      <td>0.0</td>\n",
              "      <td>3.0</td>\n",
              "      <td>0.0</td>\n",
              "      <td>5.0</td>\n",
              "      <td>0.0</td>\n",
              "      <td>0.0</td>\n",
              "      <td>1.0</td>\n",
              "      <td>0.0</td>\n",
              "      <td>0.0</td>\n",
              "      <td>5.0</td>\n",
              "      <td>0.0</td>\n",
              "      <td>0.0</td>\n",
              "      <td>0.0</td>\n",
              "      <td>0.0</td>\n",
              "      <td>0.0</td>\n",
              "      <td>0.0</td>\n",
              "      <td>0.0</td>\n",
              "    </tr>\n",
              "    <tr>\n",
              "      <th>2</th>\n",
              "      <td>0.0</td>\n",
              "      <td>0.0</td>\n",
              "      <td>0.0</td>\n",
              "      <td>0.0</td>\n",
              "      <td>5.0</td>\n",
              "      <td>0.0</td>\n",
              "      <td>0.0</td>\n",
              "      <td>0.0</td>\n",
              "      <td>0.0</td>\n",
              "      <td>0.0</td>\n",
              "      <td>0.0</td>\n",
              "      <td>0.0</td>\n",
              "      <td>0.0</td>\n",
              "      <td>0.0</td>\n",
              "      <td>1.0</td>\n",
              "      <td>0.0</td>\n",
              "      <td>0.0</td>\n",
              "      <td>0.0</td>\n",
              "      <td>0.0</td>\n",
              "      <td>0.0</td>\n",
              "      <td>0.0</td>\n",
              "      <td>2.0</td>\n",
              "      <td>4.0</td>\n",
              "      <td>0.0</td>\n",
              "      <td>2.0</td>\n",
              "    </tr>\n",
              "    <tr>\n",
              "      <th>3</th>\n",
              "      <td>0.0</td>\n",
              "      <td>0.0</td>\n",
              "      <td>2.0</td>\n",
              "      <td>0.0</td>\n",
              "      <td>0.0</td>\n",
              "      <td>0.0</td>\n",
              "      <td>0.0</td>\n",
              "      <td>0.0</td>\n",
              "      <td>0.0</td>\n",
              "      <td>0.0</td>\n",
              "      <td>0.0</td>\n",
              "      <td>0.0</td>\n",
              "      <td>0.0</td>\n",
              "      <td>0.0</td>\n",
              "      <td>0.0</td>\n",
              "      <td>0.0</td>\n",
              "      <td>0.0</td>\n",
              "      <td>0.0</td>\n",
              "      <td>0.0</td>\n",
              "      <td>0.0</td>\n",
              "      <td>0.0</td>\n",
              "      <td>0.0</td>\n",
              "      <td>0.0</td>\n",
              "      <td>0.0</td>\n",
              "      <td>0.0</td>\n",
              "    </tr>\n",
              "    <tr>\n",
              "      <th>4</th>\n",
              "      <td>0.0</td>\n",
              "      <td>0.0</td>\n",
              "      <td>0.0</td>\n",
              "      <td>0.0</td>\n",
              "      <td>1.0</td>\n",
              "      <td>0.0</td>\n",
              "      <td>0.0</td>\n",
              "      <td>0.0</td>\n",
              "      <td>0.0</td>\n",
              "      <td>0.0</td>\n",
              "      <td>0.0</td>\n",
              "      <td>0.0</td>\n",
              "      <td>0.0</td>\n",
              "      <td>0.0</td>\n",
              "      <td>0.0</td>\n",
              "      <td>0.0</td>\n",
              "      <td>0.0</td>\n",
              "      <td>0.0</td>\n",
              "      <td>0.0</td>\n",
              "      <td>0.0</td>\n",
              "      <td>4.0</td>\n",
              "      <td>0.0</td>\n",
              "      <td>0.0</td>\n",
              "      <td>0.0</td>\n",
              "      <td>2.0</td>\n",
              "    </tr>\n",
              "    <tr>\n",
              "      <th>5</th>\n",
              "      <td>0.0</td>\n",
              "      <td>0.0</td>\n",
              "      <td>0.0</td>\n",
              "      <td>0.0</td>\n",
              "      <td>0.0</td>\n",
              "      <td>0.0</td>\n",
              "      <td>0.0</td>\n",
              "      <td>0.0</td>\n",
              "      <td>1.0</td>\n",
              "      <td>0.0</td>\n",
              "      <td>0.0</td>\n",
              "      <td>3.0</td>\n",
              "      <td>0.0</td>\n",
              "      <td>0.0</td>\n",
              "      <td>0.0</td>\n",
              "      <td>0.0</td>\n",
              "      <td>0.0</td>\n",
              "      <td>3.0</td>\n",
              "      <td>0.0</td>\n",
              "      <td>0.0</td>\n",
              "      <td>0.0</td>\n",
              "      <td>0.0</td>\n",
              "      <td>0.0</td>\n",
              "      <td>0.0</td>\n",
              "      <td>0.0</td>\n",
              "    </tr>\n",
              "  </tbody>\n",
              "</table>\n",
              "</div>"
            ],
            "text/plain": [
              "course_id    1    2    3    4    5    6    7    8    9    10   11   12   13  \\\n",
              "student_id                                                                    \n",
              "1           0.0  4.0  0.0  0.0  0.0  4.0  0.0  0.0  0.0  3.0  0.0  5.0  0.0   \n",
              "2           0.0  0.0  0.0  0.0  5.0  0.0  0.0  0.0  0.0  0.0  0.0  0.0  0.0   \n",
              "3           0.0  0.0  2.0  0.0  0.0  0.0  0.0  0.0  0.0  0.0  0.0  0.0  0.0   \n",
              "4           0.0  0.0  0.0  0.0  1.0  0.0  0.0  0.0  0.0  0.0  0.0  0.0  0.0   \n",
              "5           0.0  0.0  0.0  0.0  0.0  0.0  0.0  0.0  1.0  0.0  0.0  3.0  0.0   \n",
              "\n",
              "course_id    14   15   16   17   18   19   20   21   22   23   24   25  \n",
              "student_id                                                              \n",
              "1           0.0  1.0  0.0  0.0  5.0  0.0  0.0  0.0  0.0  0.0  0.0  0.0  \n",
              "2           0.0  1.0  0.0  0.0  0.0  0.0  0.0  0.0  2.0  4.0  0.0  2.0  \n",
              "3           0.0  0.0  0.0  0.0  0.0  0.0  0.0  0.0  0.0  0.0  0.0  0.0  \n",
              "4           0.0  0.0  0.0  0.0  0.0  0.0  0.0  4.0  0.0  0.0  0.0  2.0  \n",
              "5           0.0  0.0  0.0  0.0  3.0  0.0  0.0  0.0  0.0  0.0  0.0  0.0  "
            ]
          },
          "metadata": {},
          "execution_count": 3
        }
      ]
    },
    {
      "cell_type": "code",
      "metadata": {
        "id": "MNOISZbFjVA6"
      },
      "source": [
        "# Normalize predictions\n",
        "def normalizePrediction(pred):\n",
        "  return (pred - pred.min()) / (pred.max() - pred.min())\n",
        "\n",
        "# Generate predictions\n",
        "def prediction(mat, df, n_factors):\n",
        "  if not 1 <= n_factors < min(mat.shape):\n",
        "    raise ValueError('Must be 1 <= n_factors < min(mat.shape)')\n",
        "  \n",
        "  # Matrix factorization\n",
        "  u, s, v = svds(mat, k=n_factors)\n",
        "  s = np.diag(s)\n",
        "\n",
        "  # Calculate predictions\n",
        "  pred = np.dot(np.dot(u, s), v)\n",
        "  pred = normalizePrediction(pred)\n",
        "\n",
        "  # Convert it back to dataframe\n",
        "  pred_df = pd.DataFrame(pred, columns = df.columns, index=list(df.index)).transpose()\n",
        "\n",
        "  return pred_df\n",
        "\n",
        "pred_df = prediction(mat, df, 5)"
      ],
      "execution_count": 35,
      "outputs": []
    },
    {
      "cell_type": "code",
      "metadata": {
        "colab": {
          "base_uri": "https://localhost:8080/",
          "height": 143
        },
        "id": "RNb_Z8ktkjvL",
        "outputId": "8eae0982-b104-4f4d-a4c6-feac170543ce"
      },
      "source": [
        "def collaborativeRecommender(pred_df, student_id, top_rec):\n",
        "  student_pred = pred_df[student_id].reset_index().rename({student_id: 'rating'}, axis=1)\n",
        "  recommendations = student_pred.sort_values(by='rating', ascending=False).head(top_rec).reset_index(drop=True)\n",
        "\n",
        "  return recommendations\n",
        "\n",
        "collaborativeRecommender(pred_df, 1301, 3)"
      ],
      "execution_count": 36,
      "outputs": [
        {
          "output_type": "execute_result",
          "data": {
            "text/html": [
              "<div>\n",
              "<style scoped>\n",
              "    .dataframe tbody tr th:only-of-type {\n",
              "        vertical-align: middle;\n",
              "    }\n",
              "\n",
              "    .dataframe tbody tr th {\n",
              "        vertical-align: top;\n",
              "    }\n",
              "\n",
              "    .dataframe thead th {\n",
              "        text-align: right;\n",
              "    }\n",
              "</style>\n",
              "<table border=\"1\" class=\"dataframe\">\n",
              "  <thead>\n",
              "    <tr style=\"text-align: right;\">\n",
              "      <th></th>\n",
              "      <th>course_id</th>\n",
              "      <th>rating</th>\n",
              "    </tr>\n",
              "  </thead>\n",
              "  <tbody>\n",
              "    <tr>\n",
              "      <th>0</th>\n",
              "      <td>6</td>\n",
              "      <td>0.442055</td>\n",
              "    </tr>\n",
              "    <tr>\n",
              "      <th>1</th>\n",
              "      <td>25</td>\n",
              "      <td>0.388326</td>\n",
              "    </tr>\n",
              "    <tr>\n",
              "      <th>2</th>\n",
              "      <td>2</td>\n",
              "      <td>0.386245</td>\n",
              "    </tr>\n",
              "  </tbody>\n",
              "</table>\n",
              "</div>"
            ],
            "text/plain": [
              "   course_id    rating\n",
              "0          6  0.442055\n",
              "1         25  0.388326\n",
              "2          2  0.386245"
            ]
          },
          "metadata": {},
          "execution_count": 36
        }
      ]
    },
    {
      "cell_type": "markdown",
      "metadata": {
        "id": "d_kFSxwF-RlO"
      },
      "source": [
        "# Recommender System"
      ]
    },
    {
      "cell_type": "markdown",
      "metadata": {
        "id": "SPpqWYf0_DtG"
      },
      "source": [
        "## Collaborative Filtering"
      ]
    },
    {
      "cell_type": "code",
      "metadata": {
        "id": "2_QhOLY2uhkx"
      },
      "source": [
        "random.seed(123)\n",
        "raw_data = generateData()\n",
        "\n",
        "reader = Reader(rating_scale=(1,5))\n",
        "data = Dataset.load_from_df(raw_data[['student_id', 'course_id', 'course_ratings']], reader)\n",
        "trainset, testset = train_test_split(data, test_size=0.3, random_state=123)"
      ],
      "execution_count": 57,
      "outputs": []
    },
    {
      "cell_type": "code",
      "metadata": {
        "colab": {
          "base_uri": "https://localhost:8080/"
        },
        "id": "QrtnE1Tc38SF",
        "outputId": "590281f7-9cfd-421d-e248-6ab0fe3544eb"
      },
      "source": [
        "model = KNNWithMeans(sim_options={'name': 'cosine', \n",
        "                                  'user_based': True})\n",
        "model.fit(trainset)"
      ],
      "execution_count": 58,
      "outputs": [
        {
          "output_type": "stream",
          "name": "stdout",
          "text": [
            "Computing the cosine similarity matrix...\n",
            "Done computing similarity matrix.\n"
          ]
        },
        {
          "output_type": "execute_result",
          "data": {
            "text/plain": [
              "<surprise.prediction_algorithms.knns.KNNWithMeans at 0x7f75e51e9590>"
            ]
          },
          "metadata": {},
          "execution_count": 58
        }
      ]
    },
    {
      "cell_type": "code",
      "metadata": {
        "colab": {
          "base_uri": "https://localhost:8080/",
          "height": 115
        },
        "id": "GMHPLhGi4voN",
        "outputId": "e17f495f-0b86-4647-a0dc-e81ffb7aabfc"
      },
      "source": [
        "pred = model.predict(1301, 6)\n",
        "print('predicted course rating:', pred.est, '\\n')\n",
        "display(raw_data[(raw_data['student_id']==1301) & (raw_data['course_id']==6)])"
      ],
      "execution_count": 59,
      "outputs": [
        {
          "output_type": "stream",
          "name": "stdout",
          "text": [
            "predicted course rating: 3.8895238095238094 \n",
            "\n"
          ]
        },
        {
          "output_type": "display_data",
          "data": {
            "text/html": [
              "<div>\n",
              "<style scoped>\n",
              "    .dataframe tbody tr th:only-of-type {\n",
              "        vertical-align: middle;\n",
              "    }\n",
              "\n",
              "    .dataframe tbody tr th {\n",
              "        vertical-align: top;\n",
              "    }\n",
              "\n",
              "    .dataframe thead th {\n",
              "        text-align: right;\n",
              "    }\n",
              "</style>\n",
              "<table border=\"1\" class=\"dataframe\">\n",
              "  <thead>\n",
              "    <tr style=\"text-align: right;\">\n",
              "      <th></th>\n",
              "      <th>course_id</th>\n",
              "      <th>course_topic</th>\n",
              "      <th>professor_id</th>\n",
              "      <th>student_id</th>\n",
              "      <th>course_ratings</th>\n",
              "    </tr>\n",
              "  </thead>\n",
              "  <tbody>\n",
              "    <tr>\n",
              "      <th>5989</th>\n",
              "      <td>6</td>\n",
              "      <td>2</td>\n",
              "      <td>11</td>\n",
              "      <td>1301</td>\n",
              "      <td>4</td>\n",
              "    </tr>\n",
              "  </tbody>\n",
              "</table>\n",
              "</div>"
            ],
            "text/plain": [
              "      course_id  course_topic  professor_id  student_id  course_ratings\n",
              "5989          6             2            11        1301               4"
            ]
          },
          "metadata": {}
        }
      ]
    },
    {
      "cell_type": "code",
      "metadata": {
        "colab": {
          "base_uri": "https://localhost:8080/"
        },
        "id": "YnA0aqY14zKM",
        "outputId": "b0cf2384-296a-406a-d9f3-c574f70a738a"
      },
      "source": [
        "raw_ratings = data.raw_ratings\n",
        "random.shuffle(raw_ratings)\n",
        "\n",
        "# train = 80% of the data, holdout = 20% of the data\n",
        "threshold = int(.8*len(raw_ratings))\n",
        "train = raw_ratings[:threshold]\n",
        "holdout = raw_ratings[threshold:]\n",
        "\n",
        "data.raw_ratings = train \n",
        "\n",
        "params = {\n",
        "    'sim_options': {\n",
        "        'name': ['msd', 'cosine', 'pearson'], \n",
        "        'min_support': [3, 4, 5], \n",
        "        'user_based': [True]\n",
        "        }\n",
        "    }\n",
        "\n",
        "cv = GridSearchCV(KNNWithMeans, params, measures=['rmse', 'mae'], cv=5)\n",
        "cv.fit(data)"
      ],
      "execution_count": 60,
      "outputs": [
        {
          "output_type": "stream",
          "name": "stdout",
          "text": [
            "Computing the msd similarity matrix...\n",
            "Done computing similarity matrix.\n",
            "Computing the msd similarity matrix...\n",
            "Done computing similarity matrix.\n",
            "Computing the msd similarity matrix...\n",
            "Done computing similarity matrix.\n",
            "Computing the msd similarity matrix...\n",
            "Done computing similarity matrix.\n",
            "Computing the msd similarity matrix...\n",
            "Done computing similarity matrix.\n",
            "Computing the msd similarity matrix...\n",
            "Done computing similarity matrix.\n",
            "Computing the msd similarity matrix...\n",
            "Done computing similarity matrix.\n",
            "Computing the msd similarity matrix...\n",
            "Done computing similarity matrix.\n",
            "Computing the msd similarity matrix...\n",
            "Done computing similarity matrix.\n",
            "Computing the msd similarity matrix...\n",
            "Done computing similarity matrix.\n",
            "Computing the msd similarity matrix...\n",
            "Done computing similarity matrix.\n",
            "Computing the msd similarity matrix...\n",
            "Done computing similarity matrix.\n",
            "Computing the msd similarity matrix...\n",
            "Done computing similarity matrix.\n",
            "Computing the msd similarity matrix...\n",
            "Done computing similarity matrix.\n",
            "Computing the msd similarity matrix...\n",
            "Done computing similarity matrix.\n",
            "Computing the cosine similarity matrix...\n",
            "Done computing similarity matrix.\n",
            "Computing the cosine similarity matrix...\n",
            "Done computing similarity matrix.\n",
            "Computing the cosine similarity matrix...\n",
            "Done computing similarity matrix.\n",
            "Computing the cosine similarity matrix...\n",
            "Done computing similarity matrix.\n",
            "Computing the cosine similarity matrix...\n",
            "Done computing similarity matrix.\n",
            "Computing the cosine similarity matrix...\n",
            "Done computing similarity matrix.\n",
            "Computing the cosine similarity matrix...\n",
            "Done computing similarity matrix.\n",
            "Computing the cosine similarity matrix...\n",
            "Done computing similarity matrix.\n",
            "Computing the cosine similarity matrix...\n",
            "Done computing similarity matrix.\n",
            "Computing the cosine similarity matrix...\n",
            "Done computing similarity matrix.\n",
            "Computing the cosine similarity matrix...\n",
            "Done computing similarity matrix.\n",
            "Computing the cosine similarity matrix...\n",
            "Done computing similarity matrix.\n",
            "Computing the cosine similarity matrix...\n",
            "Done computing similarity matrix.\n",
            "Computing the cosine similarity matrix...\n",
            "Done computing similarity matrix.\n",
            "Computing the cosine similarity matrix...\n",
            "Done computing similarity matrix.\n",
            "Computing the pearson similarity matrix...\n",
            "Done computing similarity matrix.\n",
            "Computing the pearson similarity matrix...\n",
            "Done computing similarity matrix.\n",
            "Computing the pearson similarity matrix...\n",
            "Done computing similarity matrix.\n",
            "Computing the pearson similarity matrix...\n",
            "Done computing similarity matrix.\n",
            "Computing the pearson similarity matrix...\n",
            "Done computing similarity matrix.\n",
            "Computing the pearson similarity matrix...\n",
            "Done computing similarity matrix.\n",
            "Computing the pearson similarity matrix...\n",
            "Done computing similarity matrix.\n",
            "Computing the pearson similarity matrix...\n",
            "Done computing similarity matrix.\n",
            "Computing the pearson similarity matrix...\n",
            "Done computing similarity matrix.\n",
            "Computing the pearson similarity matrix...\n",
            "Done computing similarity matrix.\n",
            "Computing the pearson similarity matrix...\n",
            "Done computing similarity matrix.\n",
            "Computing the pearson similarity matrix...\n",
            "Done computing similarity matrix.\n",
            "Computing the pearson similarity matrix...\n",
            "Done computing similarity matrix.\n",
            "Computing the pearson similarity matrix...\n",
            "Done computing similarity matrix.\n",
            "Computing the pearson similarity matrix...\n",
            "Done computing similarity matrix.\n"
          ]
        }
      ]
    },
    {
      "cell_type": "code",
      "metadata": {
        "colab": {
          "base_uri": "https://localhost:8080/"
        },
        "id": "9pM6QgWy8-Fg",
        "outputId": "6afc11f8-2ead-44e7-a22f-5a89f227312a"
      },
      "source": [
        "print('Best parameters:', cv.best_params['rmse'])\n",
        "print('Best parameters:', cv.best_params['mae'])\n",
        "\n",
        "print('Best RMSE Score:', cv.best_score['rmse'])\n",
        "print('Best MAE Score:', cv.best_score['mae'])"
      ],
      "execution_count": 61,
      "outputs": [
        {
          "output_type": "stream",
          "name": "stdout",
          "text": [
            "Best parameters: {'sim_options': {'name': 'pearson', 'min_support': 5, 'user_based': True}}\n",
            "Best parameters: {'sim_options': {'name': 'pearson', 'min_support': 5, 'user_based': True}}\n",
            "Best RMSE Score: 1.7339858829325372\n",
            "Best MAE Score: 1.4157454688194182\n"
          ]
        }
      ]
    },
    {
      "cell_type": "code",
      "metadata": {
        "colab": {
          "base_uri": "https://localhost:8080/"
        },
        "id": "TZsJVBAZ6kFA",
        "outputId": "268aff57-c87f-48bb-d673-422619d2959e"
      },
      "source": [
        "model = cv.best_estimator['rmse']\n",
        "\n",
        "# retrain on the whole set A\n",
        "trainset = data.build_full_trainset()\n",
        "model.fit(trainset)\n",
        "\n",
        "# Compute biased accuracy on A\n",
        "predictions = model.test(trainset.build_testset())\n",
        "print('Biased accuracy on the Training,', end='   ')\n",
        "accuracy.rmse(predictions)\n",
        "\n",
        "# Compute unbiased accuracy on B\n",
        "testset = data.construct_testset(holdout)  # testset is now the set B\n",
        "predictions = model.test(testset)\n",
        "print('Unbiased accuracy on the Holdout,', end=' ')\n",
        "accuracy.rmse(predictions)"
      ],
      "execution_count": 64,
      "outputs": [
        {
          "output_type": "stream",
          "name": "stdout",
          "text": [
            "Computing the pearson similarity matrix...\n",
            "Done computing similarity matrix.\n",
            "Biased accuracy on the Training,   RMSE: 0.4717\n",
            "Unbiased accuracy on the holdout, RMSE: 1.7517\n"
          ]
        },
        {
          "output_type": "execute_result",
          "data": {
            "text/plain": [
              "1.7516865109738355"
            ]
          },
          "metadata": {},
          "execution_count": 64
        }
      ]
    },
    {
      "cell_type": "markdown",
      "metadata": {
        "id": "GEypZw-E_A3f"
      },
      "source": [
        "## Content Based System"
      ]
    },
    {
      "cell_type": "code",
      "metadata": {
        "colab": {
          "base_uri": "https://localhost:8080/"
        },
        "id": "XA9RQbkT-MeU",
        "outputId": "80c96598-1908-4c5e-f121-c10e76934178"
      },
      "source": [
        "raw_ratings = data.raw_ratings\n",
        "random.shuffle(raw_ratings)\n",
        "\n",
        "# train = 80% of the data, holdout = 10% of the data\n",
        "threshold = int(.8*len(raw_ratings))\n",
        "train = raw_ratings[:threshold]\n",
        "holdout = raw_ratings[threshold:]\n",
        "\n",
        "data.raw_ratings = train \n",
        "\n",
        "params = {\n",
        "    'sim_options': {\n",
        "        'name': ['msd', 'cosine', 'pearson'], \n",
        "        'min_support': [3, 4, 5], \n",
        "        'user_based': [False]\n",
        "        }\n",
        "    }\n",
        "\n",
        "cv = GridSearchCV(KNNWithMeans, params, measures=['rmse', 'mae'], cv=5)\n",
        "cv.fit(data)"
      ],
      "execution_count": 65,
      "outputs": [
        {
          "output_type": "stream",
          "name": "stdout",
          "text": [
            "Computing the msd similarity matrix...\n",
            "Done computing similarity matrix.\n",
            "Computing the msd similarity matrix...\n",
            "Done computing similarity matrix.\n",
            "Computing the msd similarity matrix...\n",
            "Done computing similarity matrix.\n",
            "Computing the msd similarity matrix...\n",
            "Done computing similarity matrix.\n",
            "Computing the msd similarity matrix...\n",
            "Done computing similarity matrix.\n",
            "Computing the msd similarity matrix...\n",
            "Done computing similarity matrix.\n",
            "Computing the msd similarity matrix...\n",
            "Done computing similarity matrix.\n",
            "Computing the msd similarity matrix...\n",
            "Done computing similarity matrix.\n",
            "Computing the msd similarity matrix...\n",
            "Done computing similarity matrix.\n",
            "Computing the msd similarity matrix...\n",
            "Done computing similarity matrix.\n",
            "Computing the msd similarity matrix...\n",
            "Done computing similarity matrix.\n",
            "Computing the msd similarity matrix...\n",
            "Done computing similarity matrix.\n",
            "Computing the msd similarity matrix...\n",
            "Done computing similarity matrix.\n",
            "Computing the msd similarity matrix...\n",
            "Done computing similarity matrix.\n",
            "Computing the msd similarity matrix...\n",
            "Done computing similarity matrix.\n",
            "Computing the cosine similarity matrix...\n",
            "Done computing similarity matrix.\n",
            "Computing the cosine similarity matrix...\n",
            "Done computing similarity matrix.\n",
            "Computing the cosine similarity matrix...\n",
            "Done computing similarity matrix.\n",
            "Computing the cosine similarity matrix...\n",
            "Done computing similarity matrix.\n",
            "Computing the cosine similarity matrix...\n",
            "Done computing similarity matrix.\n",
            "Computing the cosine similarity matrix...\n",
            "Done computing similarity matrix.\n",
            "Computing the cosine similarity matrix...\n",
            "Done computing similarity matrix.\n",
            "Computing the cosine similarity matrix...\n",
            "Done computing similarity matrix.\n",
            "Computing the cosine similarity matrix...\n",
            "Done computing similarity matrix.\n",
            "Computing the cosine similarity matrix...\n",
            "Done computing similarity matrix.\n",
            "Computing the cosine similarity matrix...\n",
            "Done computing similarity matrix.\n",
            "Computing the cosine similarity matrix...\n",
            "Done computing similarity matrix.\n",
            "Computing the cosine similarity matrix...\n",
            "Done computing similarity matrix.\n",
            "Computing the cosine similarity matrix...\n",
            "Done computing similarity matrix.\n",
            "Computing the cosine similarity matrix...\n",
            "Done computing similarity matrix.\n",
            "Computing the pearson similarity matrix...\n",
            "Done computing similarity matrix.\n",
            "Computing the pearson similarity matrix...\n",
            "Done computing similarity matrix.\n",
            "Computing the pearson similarity matrix...\n",
            "Done computing similarity matrix.\n",
            "Computing the pearson similarity matrix...\n",
            "Done computing similarity matrix.\n",
            "Computing the pearson similarity matrix...\n",
            "Done computing similarity matrix.\n",
            "Computing the pearson similarity matrix...\n",
            "Done computing similarity matrix.\n",
            "Computing the pearson similarity matrix...\n",
            "Done computing similarity matrix.\n",
            "Computing the pearson similarity matrix...\n",
            "Done computing similarity matrix.\n",
            "Computing the pearson similarity matrix...\n",
            "Done computing similarity matrix.\n",
            "Computing the pearson similarity matrix...\n",
            "Done computing similarity matrix.\n",
            "Computing the pearson similarity matrix...\n",
            "Done computing similarity matrix.\n",
            "Computing the pearson similarity matrix...\n",
            "Done computing similarity matrix.\n",
            "Computing the pearson similarity matrix...\n",
            "Done computing similarity matrix.\n",
            "Computing the pearson similarity matrix...\n",
            "Done computing similarity matrix.\n",
            "Computing the pearson similarity matrix...\n",
            "Done computing similarity matrix.\n"
          ]
        }
      ]
    },
    {
      "cell_type": "code",
      "metadata": {
        "colab": {
          "base_uri": "https://localhost:8080/"
        },
        "id": "S-ZmjnMN_NSp",
        "outputId": "cafdea31-f593-4370-e0a6-294890bf9ff6"
      },
      "source": [
        "print('Best parameters:', cv.best_params['rmse'])\n",
        "print('Best parameters:', cv.best_params['mae'])\n",
        "\n",
        "print('Best RMSE Score:', cv.best_score['rmse'])\n",
        "print('Best MAE Score:', cv.best_score['mae'])"
      ],
      "execution_count": 66,
      "outputs": [
        {
          "output_type": "stream",
          "name": "stdout",
          "text": [
            "Best parameters: {'sim_options': {'name': 'cosine', 'min_support': 3, 'user_based': False}}\n",
            "Best parameters: {'sim_options': {'name': 'cosine', 'min_support': 3, 'user_based': False}}\n",
            "Best RMSE Score: 1.715431889309326\n",
            "Best MAE Score: 1.4118926402300784\n"
          ]
        }
      ]
    },
    {
      "cell_type": "code",
      "metadata": {
        "colab": {
          "base_uri": "https://localhost:8080/"
        },
        "id": "4ZgC8sy4_NjE",
        "outputId": "31363aa6-292c-4eb2-a082-bba906b7881b"
      },
      "source": [
        "model = cv.best_estimator['rmse']\n",
        "\n",
        "# retrain on the whole set the Training\n",
        "trainset = data.build_full_trainset()\n",
        "model.fit(trainset)\n",
        "\n",
        "# Compute biased accuracy on the Training\n",
        "predictions = model.test(trainset.build_testset())\n",
        "print('Biased accuracy on the Training,', end='   ')\n",
        "accuracy.rmse(predictions)\n",
        "\n",
        "# Compute unbiased accuracy on the Holdout\n",
        "testset = data.construct_testset(holdout) \n",
        "predictions = model.test(testset)\n",
        "print('Unbiased accuracy on the Holdout,', end=' ')\n",
        "accuracy.rmse(predictions)"
      ],
      "execution_count": 67,
      "outputs": [
        {
          "output_type": "stream",
          "name": "stdout",
          "text": [
            "Computing the cosine similarity matrix...\n",
            "Done computing similarity matrix.\n",
            "Biased accuracy on the Training,   RMSE: 1.0617\n",
            "Unbiased accuracy on the holdout, RMSE: 1.7098\n"
          ]
        },
        {
          "output_type": "execute_result",
          "data": {
            "text/plain": [
              "1.7097859484347893"
            ]
          },
          "metadata": {},
          "execution_count": 67
        }
      ]
    },
    {
      "cell_type": "code",
      "metadata": {
        "id": "rEi5lyjs_O6w"
      },
      "source": [
        ""
      ],
      "execution_count": null,
      "outputs": []
    }
  ]
}